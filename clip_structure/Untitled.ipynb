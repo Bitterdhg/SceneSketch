{
 "cells": [
  {
   "cell_type": "code",
   "execution_count": 1,
   "id": "98da23cb-1d50-4be8-9d55-909097f5f000",
   "metadata": {},
   "outputs": [
    {
     "name": "stdout",
     "output_type": "stream",
     "text": [
      "tokens torch.Size([50, 5, 768])\n",
      "tokens torch.Size([50, 5, 768])\n",
      "current_ss torch.Size([5, 50, 50])\n"
     ]
    },
    {
     "data": {
      "text/plain": [
       "tensor(0.0064, device='cuda:0', dtype=torch.float16)"
      ]
     },
     "execution_count": 1,
     "metadata": {},
     "output_type": "execute_result"
    }
   ],
   "source": [
    "from torchvision import transforms as T\n",
    "import torch\n",
    "from CLIP import clip\n",
    "\n",
    "device = torch.device(\"cuda\" if torch.cuda.is_available() else \"cpu\")\n",
    "\n",
    "model = clip.load(\"ViT-B/32\", device=device)[0]\n",
    "model = model.eval().requires_grad_(False)\n",
    "preprocess = T.Compose([\n",
    "    T.Resize(224),  # CLIP was trained on 224x224, but we can resize to arbitrary resolution\n",
    "    T.Normalize(\n",
    "        mean=[0.48145466, 0.4578275, 0.40821073], std=[0.26862954, 0.26130258, 0.27577711]\n",
    "    )])\n",
    "\n",
    "\n",
    "def calculate_structure_loss(model, outputs, inputs):\n",
    "    with torch.no_grad():\n",
    "        target_self_sim = model.calculate_self_sim(inputs)\n",
    "    current_ss = model.calculate_self_sim(outputs) # (5, 50, 50)\n",
    "    print(\"current_ss\", current_ss.shape)\n",
    "    loss = torch.nn.MSELoss()(current_ss, target_self_sim)\n",
    "    return loss\n",
    "\n",
    "\n",
    "x = torch.rand((5,3,224,224)).to(device)\n",
    "y = torch.rand((5,3,224,224)).to(device)\n",
    "calculate_structure_loss(model, x, y)"
   ]
  },
  {
   "cell_type": "code",
   "execution_count": null,
   "id": "6a1bc899-0d60-4319-8591-0b207d085396",
   "metadata": {},
   "outputs": [],
   "source": []
  }
 ],
 "metadata": {
  "kernelspec": {
   "display_name": "Python 3 (ipykernel)",
   "language": "python",
   "name": "python3"
  },
  "language_info": {
   "codemirror_mode": {
    "name": "ipython",
    "version": 3
   },
   "file_extension": ".py",
   "mimetype": "text/x-python",
   "name": "python",
   "nbconvert_exporter": "python",
   "pygments_lexer": "ipython3",
   "version": "3.7.9"
  }
 },
 "nbformat": 4,
 "nbformat_minor": 5
}
